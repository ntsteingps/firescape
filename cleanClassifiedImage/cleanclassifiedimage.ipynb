{
 "cells": [
  {
   "cell_type": "code",
   "execution_count": 3,
   "metadata": {},
   "outputs": [],
   "source": [
    "class cleanClassifiedImage:\n",
    "    \n",
    "    def __init__(self,image):\n",
    "        self.image = image\n",
    "    \n",
    "    def remove_small_clusters(self,thresh,tree_class):\n",
    "        \"\"\"\n",
    "        Isolates tree-heavy class for kmeans classified image and \n",
    "        performs connected component analysis to remove components where\n",
    "        N_pixels < thresh\n",
    "        returns binary image of large tree clusters\n",
    "        \"\"\"\n",
    "        import numpy as np\n",
    "        from scipy import ndimage\n",
    "        import scipy.misc\n",
    "        from scipy.ndimage.measurements import label\n",
    "        import skimage.measure\n",
    "        \n",
    "        isolated_class_image = (self.image == tree_class).astype(int)\n",
    "        unique, counts = np.unique(isolated_class_image, return_counts=True)\n",
    "        chunks   = dict(zip(unique, counts))\n",
    "        chunks   = {key:val for key, val in chunks.items() if ((val > thresh) and (val != max(chunks.values())))}\n",
    "        tree_map = np.zeros_like(isolated_class_image)\n",
    "        keys     = [key for key in chunks]\n",
    "        for i in keys:\n",
    "            tree_map[labeled == i] = 1\n",
    "        \n",
    "        return tree_map    \n",
    "        \n",
    "    def remove_shadows(self):\n",
    "        pass"
   ]
  },
  {
   "cell_type": "code",
   "execution_count": null,
   "metadata": {},
   "outputs": [],
   "source": []
  }
 ],
 "metadata": {
  "kernelspec": {
   "display_name": "Python 3",
   "language": "python",
   "name": "python3"
  },
  "language_info": {
   "codemirror_mode": {
    "name": "ipython",
    "version": 3
   },
   "file_extension": ".py",
   "mimetype": "text/x-python",
   "name": "python",
   "nbconvert_exporter": "python",
   "pygments_lexer": "ipython3",
   "version": "3.7.1"
  }
 },
 "nbformat": 4,
 "nbformat_minor": 2
}
