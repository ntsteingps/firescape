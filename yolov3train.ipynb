{
 "cells": [
  {
   "cell_type": "code",
   "execution_count": null,
   "metadata": {},
   "outputs": [],
   "source": [
    "# Check if NVIDIA GPU is enabled\n",
    "!nvidia-smi"
   ]
  },
  {
   "cell_type": "code",
   "execution_count": null,
   "metadata": {},
   "outputs": [],
   "source": [
    "from google.colab import drive\n",
    "drive.mount('/content/gdrive')\n",
    "!ln -s /content/gdrive/My\\ Drive/ /mydrive\n",
    "!ls /mydrive"
   ]
  },
  {
   "cell_type": "code",
   "execution_count": null,
   "metadata": {},
   "outputs": [],
   "source": [
    "!git clone https://github.com/AlexeyAB/darknet"
   ]
  },
  {
   "cell_type": "code",
   "execution_count": null,
   "metadata": {},
   "outputs": [],
   "source": [
    "# change makefile to have GPU and OPENCV enabled\n",
    "%cd darknet\n",
    "!sed -i 's/OPENCV=0/OPENCV=1/' Makefile\n",
    "!sed -i 's/GPU=0/GPU=1/' Makefile\n",
    "!sed -i 's/CUDNN=0/CUDNN=1/' Makefile\n",
    "!make"
   ]
  },
  {
   "cell_type": "code",
   "execution_count": null,
   "metadata": {},
   "outputs": [],
   "source": [
    "!cp cfg/yolov3.cfg cfg/yolov3_training.cfg"
   ]
  },
  {
   "cell_type": "code",
   "execution_count": null,
   "metadata": {},
   "outputs": [],
   "source": [
    "!sed -i 's/batch=1/batch=64/' cfg/yolov3_training.cfg\n",
    "!sed -i 's/subdivisions=1/subdivisions=16/' cfg/yolov3_training.cfg\n",
    "!sed -i 's/max_batches = 500200/max_batches = 4000/' cfg/yolov3_training.cfg\n",
    "!sed -i '610 s@classes=80@classes=1@' cfg/yolov3_training.cfg\n",
    "!sed -i '696 s@classes=80@classes=1@' cfg/yolov3_training.cfg\n",
    "!sed -i '783 s@classes=80@classes=1@' cfg/yolov3_training.cfg\n",
    "!sed -i '603 s@filters=255@filters=18@' cfg/yolov3_training.cfg\n",
    "!sed -i '689 s@filters=255@filters=18@' cfg/yolov3_training.cfg\n",
    "!sed -i '776 s@filters=255@filters=18@' cfg/yolov3_training.cfg"
   ]
  },
  {
   "cell_type": "code",
   "execution_count": null,
   "metadata": {},
   "outputs": [],
   "source": [
    "# Create folder on google drive to save weights\n",
    "!mkdir \"/mydrive/yolov3\""
   ]
  },
  {
   "cell_type": "code",
   "execution_count": null,
   "metadata": {},
   "outputs": [],
   "source": [
    "!echo \"tree\" > data/obj.names\n",
    "!echo -e 'classes= 1\\ntrain  = data/train.txt\\nvalid  = data/test.txt\\nnames = data/obj.names\\nbackup = /mydrive/yolov3' > data/obj.data\n",
    "!mkdir data/obj"
   ]
  },
  {
   "cell_type": "code",
   "execution_count": null,
   "metadata": {},
   "outputs": [],
   "source": [
    "# Download weights darknet model 53\n",
    "!wget https://pjreddie.com/media/files/darknet53.conv.74"
   ]
  },
  {
   "cell_type": "code",
   "execution_count": null,
   "metadata": {},
   "outputs": [],
   "source": [
    "!unzip /mydrive/yolov3/images.zip -d data/obj"
   ]
  },
  {
   "cell_type": "code",
   "execution_count": null,
   "metadata": {},
   "outputs": [],
   "source": [
    "# We're going to convert the class index on the .txt files. As we're working with only one class, it's supposed to be class 0.\n",
    "# If the index is different from 0 then we're going to change it.\n",
    "import glob\n",
    "import os\n",
    "import re\n",
    "\n",
    "txt_file_paths = glob.glob(r\"data/obj/*.txt\")\n",
    "for i, file_path in enumerate(txt_file_paths):\n",
    "    # get image size\n",
    "    with open(file_path, \"r\") as f_o:\n",
    "        lines = f_o.readlines()\n",
    "\n",
    "        text_converted = []\n",
    "        for line in lines:\n",
    "            print(line)\n",
    "            numbers = re.findall(\"[0-9.]+\", line)\n",
    "            print(numbers)\n",
    "            if numbers:\n",
    "\n",
    "                # Define coordinates\n",
    "                text = \"{} {} {} {} {}\".format(0, numbers[1], numbers[2], numbers[3], numbers[4])\n",
    "                text_converted.append(text)\n",
    "                print(i, file_path)\n",
    "                print(text)\n",
    "        # Write file\n",
    "        with open(file_path, 'w') as fp:\n",
    "            for item in text_converted:\n",
    "                fp.writelines(\"%s\\n\" % item)"
   ]
  },
  {
   "cell_type": "code",
   "execution_count": null,
   "metadata": {},
   "outputs": [],
   "source": [
    "import glob\n",
    "images_list = glob.glob(\"data/obj/*.jpg\")\n",
    "print(images_list)"
   ]
  },
  {
   "cell_type": "code",
   "execution_count": null,
   "metadata": {},
   "outputs": [],
   "source": [
    "#Create training.txt file\n",
    "file = open(\"data/train.txt\", \"w\") \n",
    "file.write(\"\\n\".join(images_list)) \n",
    "file.close() "
   ]
  },
  {
   "cell_type": "code",
   "execution_count": null,
   "metadata": {},
   "outputs": [],
   "source": [
    "# Start the training\n",
    "!./darknet detector train data/obj.data cfg/yolov3_training.cfg darknet53.conv.74 -dont_show"
   ]
  }
 ],
 "metadata": {
  "kernelspec": {
   "display_name": "Python 3 (ipykernel)",
   "language": "python",
   "name": "python3"
  },
  "language_info": {
   "codemirror_mode": {
    "name": "ipython",
    "version": 3
   },
   "file_extension": ".py",
   "mimetype": "text/x-python",
   "name": "python",
   "nbconvert_exporter": "python",
   "pygments_lexer": "ipython3",
   "version": "3.9.7"
  }
 },
 "nbformat": 4,
 "nbformat_minor": 2
}
